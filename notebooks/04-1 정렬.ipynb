{
 "cells": [
  {
   "cell_type": "markdown",
   "id": "07259101-af77-4238-a0bb-59a8d4520f6d",
   "metadata": {},
   "source": [
    "# 정렬"
   ]
  },
  {
   "cell_type": "markdown",
   "id": "e6e02f2e-8a03-4a12-b7a9-0d307b4a23fa",
   "metadata": {},
   "source": [
    "### 버블정렬\n",
    "데이터의 `인접` 요소끼리 비교하고, `swap` 연산을 수행하며 정렬하는 방식\n",
    "> 시간복잡도 O(N^2)\n",
    " -  swap 이 한 번도 일어나지 않으면 영역 뒤에 있는 데이터가 모두 정렬 됐다는 의미로서 프로세스를 종료해도 된다."
   ]
  },
  {
   "cell_type": "markdown",
   "id": "4ec37f64-6b84-43e1-92cd-2293b883868b",
   "metadata": {},
   "source": [
    "**코드스니펫 버블 정렬**"
   ]
  },
  {
   "cell_type": "code",
   "execution_count": 24,
   "id": "a937a1fe-d7d8-42dc-a91f-7553923f3256",
   "metadata": {},
   "outputs": [],
   "source": [
    "data = [4, 6, 2, 9, 1]"
   ]
  },
  {
   "cell_type": "code",
   "execution_count": 36,
   "id": "23be5c6c-72ea-48d1-ad26-28e5961ecfee",
   "metadata": {},
   "outputs": [
    {
     "name": "stdout",
     "output_type": "stream",
     "text": [
      "[1, 2, 4, 6, 9]\n",
      "정답 = [1, 2, 4, 6, 9] / 현재 풀이 값 =  [1, 2, 4, 6, 9]\n",
      "정답 = [-1, 3, 9, 17] / 현재 풀이 값 =  [-1, 3, 9, 17]\n",
      "정답 = [-3, 32, 44, 56, 100] / 현재 풀이 값 =  [-3, 32, 44, 56, 100]\n"
     ]
    }
   ],
   "source": [
    "def bubble_sort(array):\n",
    "    cnt = 0\n",
    "    while cnt != len(array): # 프로세스를 종료하기 위한 조건 > 시간 복잡도가 N^2 이니까 N * N 반복\n",
    "        for i in range(len(array)): # 0번째 인덱스는 비교 대상이 없음.\n",
    "            if i > 0:\n",
    "                if array[i] <= array[i-1]:\n",
    "                    array[i], array[i-1] = array[i-1], array[i]\n",
    "        cnt += 1\n",
    "    return array\n",
    "\n",
    "bubble_sort(data)\n",
    "\n",
    "print(data)  # [1, 2, 4, 6, 9] 가 되어야 합니다!\n",
    "\n",
    "print(\"정답 = [1, 2, 4, 6, 9] / 현재 풀이 값 = \",bubble_sort([4, 6, 2, 9, 1]))\n",
    "print(\"정답 = [-1, 3, 9, 17] / 현재 풀이 값 = \",bubble_sort([3,-1,17,9]))\n",
    "print(\"정답 = [-3, 32, 44, 56, 100] / 현재 풀이 값 = \",bubble_sort([100,56,-3,32,44]))\n",
    "\n",
    "# while 조건: 은 조건인 경우에 돌아가는 형식!!!! 맨날 헷갈림."
   ]
  },
  {
   "cell_type": "code",
   "execution_count": 1,
   "id": "6f0df724-b988-43e4-bfe9-cc41677ccf16",
   "metadata": {},
   "outputs": [
    {
     "name": "stdout",
     "output_type": "stream",
     "text": [
      "[1, 10, 5, 8, 7, 6, 4, 3, 2, 9]\n",
      "[1, 5, 10, 8, 7, 6, 4, 3, 2, 9]\n",
      "[1, 5, 8, 10, 7, 6, 4, 3, 2, 9]\n",
      "[1, 5, 8, 7, 10, 6, 4, 3, 2, 9]\n",
      "[1, 5, 8, 7, 6, 10, 4, 3, 2, 9]\n",
      "[1, 5, 8, 7, 6, 4, 10, 3, 2, 9]\n",
      "[1, 5, 8, 7, 6, 4, 3, 10, 2, 9]\n",
      "[1, 5, 8, 7, 6, 4, 3, 2, 10, 9]\n",
      "[1, 5, 8, 7, 6, 4, 3, 2, 9, 10]\n",
      "[1, 5, 8, 7, 6, 4, 3, 2, 9, 10]\n",
      "[1, 5, 8, 7, 6, 4, 3, 2, 9, 10]\n",
      "[1, 5, 7, 8, 6, 4, 3, 2, 9, 10]\n",
      "[1, 5, 7, 6, 8, 4, 3, 2, 9, 10]\n",
      "[1, 5, 7, 6, 4, 8, 3, 2, 9, 10]\n",
      "[1, 5, 7, 6, 4, 3, 8, 2, 9, 10]\n",
      "[1, 5, 7, 6, 4, 3, 2, 8, 9, 10]\n",
      "[1, 5, 7, 6, 4, 3, 2, 8, 9, 10]\n",
      "[1, 5, 7, 6, 4, 3, 2, 8, 9, 10]\n",
      "[1, 5, 7, 6, 4, 3, 2, 8, 9, 10]\n",
      "[1, 5, 6, 7, 4, 3, 2, 8, 9, 10]\n",
      "[1, 5, 6, 4, 7, 3, 2, 8, 9, 10]\n",
      "[1, 5, 6, 4, 3, 7, 2, 8, 9, 10]\n",
      "[1, 5, 6, 4, 3, 2, 7, 8, 9, 10]\n",
      "[1, 5, 6, 4, 3, 2, 7, 8, 9, 10]\n",
      "[1, 5, 6, 4, 3, 2, 7, 8, 9, 10]\n",
      "[1, 5, 6, 4, 3, 2, 7, 8, 9, 10]\n",
      "[1, 5, 4, 6, 3, 2, 7, 8, 9, 10]\n",
      "[1, 5, 4, 3, 6, 2, 7, 8, 9, 10]\n",
      "[1, 5, 4, 3, 2, 6, 7, 8, 9, 10]\n",
      "[1, 5, 4, 3, 2, 6, 7, 8, 9, 10]\n",
      "[1, 5, 4, 3, 2, 6, 7, 8, 9, 10]\n",
      "[1, 4, 5, 3, 2, 6, 7, 8, 9, 10]\n",
      "[1, 4, 3, 5, 2, 6, 7, 8, 9, 10]\n",
      "[1, 4, 3, 2, 5, 6, 7, 8, 9, 10]\n",
      "[1, 4, 3, 2, 5, 6, 7, 8, 9, 10]\n",
      "[1, 4, 3, 2, 5, 6, 7, 8, 9, 10]\n",
      "[1, 3, 4, 2, 5, 6, 7, 8, 9, 10]\n",
      "[1, 3, 2, 4, 5, 6, 7, 8, 9, 10]\n",
      "[1, 3, 2, 4, 5, 6, 7, 8, 9, 10]\n",
      "[1, 3, 2, 4, 5, 6, 7, 8, 9, 10]\n",
      "[1, 2, 3, 4, 5, 6, 7, 8, 9, 10]\n",
      "[1, 2, 3, 4, 5, 6, 7, 8, 9, 10]\n",
      "[1, 2, 3, 4, 5, 6, 7, 8, 9, 10]\n",
      "[1, 2, 3, 4, 5, 6, 7, 8, 9, 10]\n",
      "[1, 2, 3, 4, 5, 6, 7, 8, 9, 10]\n"
     ]
    }
   ],
   "source": [
    "def bubble_sort(array):\n",
    "    for i in range(len(array)):\n",
    "        for j in range(len(array)-i-1):\n",
    "            if (array[j] > array[j+1]):\n",
    "                array[j+1], array[j] = array[j], array[j+1]\n",
    "            print(array)\n",
    "array = [1, 10, 5, 8, 7, 6, 4, 3, 2, 9]\n",
    "bubble_sort(array)"
   ]
  },
  {
   "cell_type": "markdown",
   "id": "ac4ef42f-fc8e-4ac8-b315-6b5bfc210348",
   "metadata": {},
   "source": [
    "### 선택정렬\n",
    "* 최대나 최소 데이터를 데이터가 나열된 순으로 찾아가며 선택하는 방법\n",
    "<br> 코테에 자주 출제되지는 않으나, 면접용\n",
    "> 시간복잡도 O(N^2)\n",
    "\n",
    " - 최솟값 또는 최댓값을 찾고, 남은 정렬 부분의 `가장 앞`에 있는 데이터와 swap을 하는 것이 선택 정렬의 핵심"
   ]
  },
  {
   "cell_type": "markdown",
   "id": "fe95d358-e028-4013-a0da-03bb584fd53c",
   "metadata": {},
   "source": [
    "**[코드시니펫] 선택 정렬**\n",
    "<br> Q. 다음과 같이 숫자로 이루어진 배열이 있을 때, 오름차순으로 선택 정렬을 이용해서 정렬하시오."
   ]
  },
  {
   "cell_type": "code",
   "execution_count": 78,
   "id": "2b1c402e-65f2-4cae-896e-13b3054a9109",
   "metadata": {},
   "outputs": [],
   "source": [
    "data = [4, 6, 2, 9, 1]\n"
   ]
  },
  {
   "cell_type": "code",
   "execution_count": 79,
   "id": "0517f3ab-84b2-49b5-82fb-73746ebc5728",
   "metadata": {},
   "outputs": [],
   "source": [
    "def selection_sort(array):\n",
    "    cnt = 0\n",
    "    results = []\n",
    "    n = len(array)\n",
    "    while cnt != n: # array 가 계속 변하기 때문에 위에 따로 변수 지정\n",
    "        # 최솟값을 찾기\n",
    "        if len(array) != 0:\n",
    "            min_ = min(array)\n",
    "            for i in range(len(array)):\n",
    "                if array[i] == min_:\n",
    "                    array[0] , array[i] = array[i], array[0] # min값인 곳과 맨 앞을 Swap\n",
    "\n",
    "            results.append(array.pop(0)) # 최솟값의 fix을 위해서 pop 을 통해 해결 \n",
    "\n",
    "        cnt += 1\n",
    "    return results"
   ]
  },
  {
   "cell_type": "code",
   "execution_count": 82,
   "id": "ef8c61eb-abaf-4da4-a8ce-2614aa7708f1",
   "metadata": {},
   "outputs": [
    {
     "data": {
      "text/plain": [
       "[1, 2, 4, 6, 9]"
      ]
     },
     "execution_count": 82,
     "metadata": {},
     "output_type": "execute_result"
    }
   ],
   "source": [
    "selection_sort([4, 6, 2, 9, 1])  # [1, 2, 4, 6, 9] 가 되어야 합니다!"
   ]
  },
  {
   "cell_type": "code",
   "execution_count": 81,
   "id": "ff0bfa0c-d384-4e89-945a-f2401d74e2a6",
   "metadata": {},
   "outputs": [
    {
     "name": "stdout",
     "output_type": "stream",
     "text": [
      "정답 = [1, 2, 4, 6, 9] / 현재 풀이 값 =  [1, 2, 4, 6, 9]\n",
      "정답 = [-1, 3, 9, 17] / 현재 풀이 값 =  [-1, 3, 9, 17]\n",
      "정답 = [-3, 32, 44, 56, 100] / 현재 풀이 값 =  [-3, 32, 44, 56, 100]\n"
     ]
    }
   ],
   "source": [
    "print(\"정답 = [1, 2, 4, 6, 9] / 현재 풀이 값 = \",selection_sort([4, 6, 2, 9, 1]))\n",
    "print(\"정답 = [-1, 3, 9, 17] / 현재 풀이 값 = \",selection_sort([3,-1,17,9]))\n",
    "print(\"정답 = [-3, 32, 44, 56, 100] / 현재 풀이 값 = \",selection_sort([100,56,-3,32,44]))"
   ]
  },
  {
   "cell_type": "code",
   "execution_count": null,
   "id": "f0db19ab-adc9-465f-b075-00a163fc47c8",
   "metadata": {},
   "outputs": [],
   "source": []
  },
  {
   "cell_type": "markdown",
   "id": "a1620dee-f432-487b-9e0e-5c8a5a0aeff3",
   "metadata": {},
   "source": [
    "### **프로그래머스** [정렬 : k 번째 수](https://school.programmers.co.kr/learn/courses/30/lessons/42748)"
   ]
  },
  {
   "cell_type": "markdown",
   "id": "733b541b-ad7b-4c10-97b4-eada97e60935",
   "metadata": {},
   "source": [
    "i 번째 부터 j 번째 까지 자르고 \"정렬\" 후 k 번째 숫자 "
   ]
  },
  {
   "cell_type": "code",
   "execution_count": 84,
   "id": "79b07a5a-8709-4d83-a08f-dad6ba5cc9ae",
   "metadata": {},
   "outputs": [
    {
     "name": "stdout",
     "output_type": "stream",
     "text": [
      "[5, 2, 6, 3]\n"
     ]
    }
   ],
   "source": [
    "array = [1, 5, 2, 6, 3, 7, 4]\n",
    "command = [2,5,3]\n",
    "new_array = array[command[0]-1:command[1]]\n",
    "print(new_array)"
   ]
  },
  {
   "cell_type": "code",
   "execution_count": 92,
   "id": "846003be-4ae5-4fbc-abf4-6b6838dd87f2",
   "metadata": {},
   "outputs": [],
   "source": [
    "def solution(array, commands):\n",
    "    answer = []\n",
    "    for command in commands:\n",
    "        new_array = array[command[0]-1:command[1]]\n",
    "        new_array.sort()\n",
    "        answer.append(new_array[command[2]-1])\n",
    "    return answer\n",
    "\n",
    "# labda 를 이용한 한줄 코딩 list(map(lambda x:sorted(array[x[0]-1:x[1]])[x[2]-1], commands))\n",
    "# 어휴..."
   ]
  },
  {
   "cell_type": "code",
   "execution_count": 89,
   "id": "4a5e95fd-a9fc-4823-acf9-e221b55f5ea3",
   "metadata": {},
   "outputs": [],
   "source": [
    "# 내포도 이용 가능하겠네...\n",
    "def solution(array, commands):\n",
    "    return [sorted(array[command[0]-1:command[1]])[command[2]-1] for command in commands]"
   ]
  },
  {
   "cell_type": "code",
   "execution_count": 93,
   "id": "cc3f2fcf-c532-4ca8-8f24-07d85eb87e27",
   "metadata": {},
   "outputs": [],
   "source": [
    "array = [1, 5, 2, 6, 3, 7, 4]\n",
    "commands = [[2, 5, 3], [4, 4, 1], [1, 7, 3]]"
   ]
  },
  {
   "cell_type": "code",
   "execution_count": 94,
   "id": "a23f9e9a-acb2-44a4-b67f-9cd0fca0e93e",
   "metadata": {},
   "outputs": [
    {
     "data": {
      "text/plain": [
       "[5, 6, 3]"
      ]
     },
     "execution_count": 94,
     "metadata": {},
     "output_type": "execute_result"
    }
   ],
   "source": [
    "solution(array, commands)"
   ]
  },
  {
   "cell_type": "markdown",
   "id": "944ba12b-0825-4d2b-9cee-28c67b3a89c6",
   "metadata": {},
   "source": [
    "### **프로그래머스** [정렬 : 가장 큰 수](https://school.programmers.co.kr/learn/courses/30/lessons/42746)"
   ]
  },
  {
   "cell_type": "markdown",
   "id": "86e4549a-f8cd-40b3-9ef3-2d79c9aa79f6",
   "metadata": {},
   "source": [
    "0 또는 양의 정수가 주어졌을 때, 정수를 이어 붙여 만들 수 있는 가장 큰 수를 알아내 주세요."
   ]
  },
  {
   "cell_type": "code",
   "execution_count": 97,
   "id": "b82f934e-eeb5-4f8d-8bb1-a8762a39138f",
   "metadata": {},
   "outputs": [
    {
     "data": {
      "text/plain": [
       "6103"
      ]
     },
     "execution_count": 97,
     "metadata": {},
     "output_type": "execute_result"
    }
   ],
   "source": [
    "d = ['6','10','3']\n",
    "s = d[0] + d[1] + d[2]\n",
    "int(s)\n",
    "# 숫자가 3개면 만들수 있는 수 배열은 3! = 6개 \n",
    "# 123 , 132, 213, 231, 312, 321\n",
    "# 문제는 이 배열을 정하는 것이다!!!!!!!!\n",
    "# permutation 인데.. 흠.. \n"
   ]
  },
  {
   "cell_type": "code",
   "execution_count": 103,
   "id": "25853ec2-e822-4ee8-88b6-0056f6c92e0f",
   "metadata": {},
   "outputs": [
    {
     "name": "stdout",
     "output_type": "stream",
     "text": [
      "['ABC', 'ACB', 'BAC', 'BCA', 'CAB', 'CBA']\n",
      "['AB', 'AC', 'BA', 'BC', 'CA', 'CB']\n"
     ]
    }
   ],
   "source": [
    "# 검색 찬스... 해당 함수를 가진 module \n",
    "import itertools\n",
    "\n",
    "pool = ['A', 'B', 'C']\n",
    "print(list(map(''.join, itertools.permutations(pool)))) # 3개의 원소로 순열 만들기\n",
    "print(list(map(''.join, itertools.permutations(pool, 2)))) # 2개의 원소로 순열 만들기"
   ]
  },
  {
   "cell_type": "markdown",
   "id": "abb88f52-a8b3-449b-b821-12c622ad6904",
   "metadata": {},
   "source": [
    "오답1 : 시간 초과"
   ]
  },
  {
   "cell_type": "code",
   "execution_count": 110,
   "id": "0a699560-9025-49c6-8904-6989009fcf0a",
   "metadata": {},
   "outputs": [],
   "source": [
    "# 써 봅시다ㅍ > 시간초과.. 왜 일까... 흠..\n",
    "def solution(numbers):\n",
    "    \n",
    "    import itertools\n",
    "\n",
    "    numbers = [str(n) for n in numbers]\n",
    "    result = list(map(''.join, itertools.permutations(numbers)))\n",
    "    answer = max([int(i) for i in result])\n",
    "    return str(answer)"
   ]
  },
  {
   "cell_type": "markdown",
   "id": "44059123-e10a-450b-9175-240e752141f0",
   "metadata": {},
   "source": [
    "오답2 : 걍 틀림"
   ]
  },
  {
   "cell_type": "code",
   "execution_count": 122,
   "id": "73c553a7-65a4-4237-9204-ec558ee22052",
   "metadata": {},
   "outputs": [],
   "source": [
    "# 큰 수를 만드는 방법\n",
    "# 큰 수의 배열 \n",
    "\n",
    "data =[6,10,2] # 각 자리 수로 분리 해야한다.\n",
    "result = []\n",
    "for i in data:\n",
    "    n = i % 10 \n",
    "    a = i // 10\n",
    "    result.append(n)\n",
    "    if a != 0:\n",
    "        result.append(a)\n",
    "    result.sort(reverse=True)\n",
    "answer = ''.join([str(i) for i in result])"
   ]
  },
  {
   "cell_type": "code",
   "execution_count": 121,
   "id": "ea93b3d0-a4cd-4978-9756-28b2e6f37337",
   "metadata": {},
   "outputs": [],
   "source": [
    "def solution(numbers):\n",
    "    result = []\n",
    "    for i in numbers:\n",
    "        n = i % 10 \n",
    "        a = i // 10\n",
    "        result.append(n)\n",
    "        if a != 0:\n",
    "            result.append(a)\n",
    "    answer = ''.join([str(i) for i in result])\n",
    "    return answer\n",
    "\n",
    "# 33, 34 같은 경우 다른 값이 나오네..."
   ]
  },
  {
   "cell_type": "code",
   "execution_count": 123,
   "id": "e86dd29a-a6b7-4816-b9b6-3ca404ad7e79",
   "metadata": {},
   "outputs": [],
   "source": [
    "### 포기이이이이 "
   ]
  },
  {
   "cell_type": "code",
   "execution_count": null,
   "id": "1c97a9b8-8796-491d-b290-b3963077105f",
   "metadata": {},
   "outputs": [],
   "source": [
    "# 자리 바꾸기.\n",
    "numbers = [3, 30, 34, 5, 9]\n",
    "\n"
   ]
  },
  {
   "cell_type": "code",
   "execution_count": 1,
   "id": "31edcf21-892a-465a-a115-e8b5c8c87600",
   "metadata": {},
   "outputs": [],
   "source": [
    "def solution(numbers):\n",
    "    answer = ''\n",
    "    \n",
    "    return answer"
   ]
  },
  {
   "cell_type": "code",
   "execution_count": null,
   "id": "de4bd9c9-bfc9-4543-bad3-30aa9bcb5636",
   "metadata": {},
   "outputs": [],
   "source": []
  },
  {
   "cell_type": "code",
   "execution_count": null,
   "id": "7b457183-2b4c-45df-9106-a7d7ab509dda",
   "metadata": {},
   "outputs": [],
   "source": []
  },
  {
   "cell_type": "code",
   "execution_count": null,
   "id": "476a85f5-74a0-48aa-a895-0f58e0c00914",
   "metadata": {},
   "outputs": [],
   "source": []
  },
  {
   "cell_type": "markdown",
   "id": "8cec5683-33e1-424b-9c49-3bfa4c629649",
   "metadata": {},
   "source": [
    "##### 스터디"
   ]
  },
  {
   "cell_type": "code",
   "execution_count": 2,
   "id": "bffffde4-6cab-4bd9-be3e-78f2dff6be20",
   "metadata": {},
   "outputs": [],
   "source": [
    "a = ['16', '123', '53']"
   ]
  },
  {
   "cell_type": "markdown",
   "id": "6a539f64-edf1-4d5c-8c59-4a44647ae289",
   "metadata": {},
   "source": [
    "- a 원소를 모두 정수로 변경해주세요\n",
    "- 그리고 내림차순으로 b라는 리스트에 넣어주세요\n",
    "- b를 출력해주세요"
   ]
  },
  {
   "cell_type": "code",
   "execution_count": 4,
   "id": "b708f4a2-19a5-4342-a354-9c1ad36ce739",
   "metadata": {},
   "outputs": [
    {
     "data": {
      "text/plain": [
       "['16', '123', '53']"
      ]
     },
     "execution_count": 4,
     "metadata": {},
     "output_type": "execute_result"
    }
   ],
   "source": [
    "a"
   ]
  },
  {
   "cell_type": "code",
   "execution_count": 8,
   "id": "4138cf22-38b2-46c9-8873-110e1cf96fa0",
   "metadata": {},
   "outputs": [
    {
     "name": "stdout",
     "output_type": "stream",
     "text": [
      "[123, 53, 16]\n"
     ]
    }
   ],
   "source": [
    "for i in range(len(a)):\n",
    "    a[i] = int(a[i])\n",
    "\n",
    "b = sorted(a,reverse=True)\n",
    "print(b)\n",
    "    "
   ]
  },
  {
   "cell_type": "code",
   "execution_count": 12,
   "id": "92a559e9-1420-45ce-9bcd-8cd15c13207a",
   "metadata": {},
   "outputs": [
    {
     "name": "stdout",
     "output_type": "stream",
     "text": [
      "[123, 53, 16]\n"
     ]
    }
   ],
   "source": [
    "b = sorted([int(i) for i in a] ,reverse=True)\n",
    "print(b)"
   ]
  },
  {
   "cell_type": "code",
   "execution_count": 24,
   "id": "516f2f3c-2525-4f53-af80-ada6a0ad2393",
   "metadata": {},
   "outputs": [
    {
     "data": {
      "text/plain": [
       "1.5566567074628228"
      ]
     },
     "execution_count": 24,
     "metadata": {},
     "output_type": "execute_result"
    }
   ],
   "source": [
    "import numpy as np\n",
    "\n",
    "c = 3/7\n",
    "r =2/7\n",
    "f = 2/7\n",
    "\n",
    "H = -1*(c*np.log2(c) + r*np.log2(r) + f*np.log2(f))\n",
    "H"
   ]
  },
  {
   "cell_type": "code",
   "execution_count": 30,
   "id": "ee1195af-ba51-4ae6-b0f9-e4d82b9e16c8",
   "metadata": {},
   "outputs": [
    {
     "name": "stdout",
     "output_type": "stream",
     "text": [
      "1.2506982145947811 0.30595849286804166\n"
     ]
    }
   ],
   "source": [
    "rem = (4/7)*(-(2/4*np.log2(2/4)+1/4*np.log2(1/4)+1/4*np.log2(1/4))) + (3/7)*(-(2/3*np.log2(2/3)+1/3*np.log2(1/3)))\n",
    "\n",
    "IG = H - rem\n",
    "print(rem, IG)"
   ]
  },
  {
   "cell_type": "code",
   "execution_count": 26,
   "id": "5bb84f4f-31b7-4c1b-a730-c7adbdfac8af",
   "metadata": {},
   "outputs": [
    {
     "name": "stdout",
     "output_type": "stream",
     "text": [
      "0.9792504246104776 0.12131831424510198\n"
     ]
    }
   ],
   "source": [
    "rem2 = 5/7*(-(3/5*np.log2(3/5)+1/5*np.log2(1/5)*2))\n",
    "IG2 = H - rem2\n",
    "print(rem2, IG)"
   ]
  },
  {
   "cell_type": "code",
   "execution_count": 27,
   "id": "2a698a72-cb75-4f8f-b415-621966cc31fe",
   "metadata": {},
   "outputs": [
    {
     "name": "stdout",
     "output_type": "stream",
     "text": [
      "0.6792696431662097 0.8773870642966131\n"
     ]
    }
   ],
   "source": [
    "rem3 = 3/7*(-(2/3*np.log2(2/3)+1/3*np.log2(1/3)))+2/7\n",
    "IG3 = H - rem3\n",
    "print(rem3, IG3)"
   ]
  },
  {
   "cell_type": "code",
   "execution_count": null,
   "id": "be7c55cf-c4ba-4154-aa6b-2ce3a015418e",
   "metadata": {},
   "outputs": [],
   "source": []
  },
  {
   "cell_type": "code",
   "execution_count": null,
   "id": "f80fa1c2-16f1-4153-883a-7b1d591a41cc",
   "metadata": {},
   "outputs": [],
   "source": []
  },
  {
   "cell_type": "code",
   "execution_count": null,
   "id": "02c96742-83a2-4130-906e-3083373cbf55",
   "metadata": {},
   "outputs": [],
   "source": []
  },
  {
   "cell_type": "code",
   "execution_count": 33,
   "id": "9944f0a5-cb60-477e-9bbb-d9beb56933af",
   "metadata": {},
   "outputs": [
    {
     "name": "stdout",
     "output_type": "stream",
     "text": [
      "stream의 IG = 0.2516291673878229\n",
      "slope 의 IG = 0.9182958340544896\n"
     ]
    }
   ],
   "source": [
    "# high\n",
    "h_t = -(2/3*np.log2(2/3)+ 1/3*np.log2(1/3))\n",
    "\n",
    "# Stream\n",
    "\n",
    "rem_s = 2/3\n",
    "\n",
    "ig_s = h_t - rem_s\n",
    "print(f'stream의 IG = {ig_s}')\n",
    "\n",
    "# Slope \n",
    "\n",
    "rem_l = 0\n",
    "\n",
    "ig_l = h_t - rem_l\n",
    "\n",
    "print(f'slope 의 IG = {ig_l}')"
   ]
  }
 ],
 "metadata": {
  "kernelspec": {
   "display_name": "Python 3 (ipykernel)",
   "language": "python",
   "name": "python3"
  },
  "language_info": {
   "codemirror_mode": {
    "name": "ipython",
    "version": 3
   },
   "file_extension": ".py",
   "mimetype": "text/x-python",
   "name": "python",
   "nbconvert_exporter": "python",
   "pygments_lexer": "ipython3",
   "version": "3.9.13"
  }
 },
 "nbformat": 4,
 "nbformat_minor": 5
}
