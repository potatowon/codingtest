{
 "cells": [
  {
   "cell_type": "markdown",
   "id": "01a8ebe8-6c35-4727-a321-f3d50a73cebf",
   "metadata": {},
   "source": [
    "# 자료구조와 배열\n",
    "참고 : Do it! 자료구조와  함께 배우는 알고리즘 입문<br>\n",
    "참고 : 노션 자료<br>\n",
    "참고 : Do it! 알고리즘 코딩 테스트\n",
    "\n",
    "```\n",
    "자료구조에서의 list 와 파이썬 에서의 list는 다름\n",
    "\n",
    "파이썬 list는 배열과 자료구조에서의 리스트의 장점을 지님\n",
    "```\n",
    " - 배열(숙소)\n",
    "     - 장점 \n",
    "         * 인덱스 사용 값에 접근 가능 -> O(1)의 복잡도\n",
    "     - 단점\n",
    "         * 새로운 값의 삽입, 삭제 어렵다 -> O(N)의 복잡도(모든 원소의 이동)\n",
    "         * 크기를 변경 할 수 없다 -> 새로운 원소 추가시 새로운 공간의 할당 필요\n",
    "         \n",
    " - 자료구조의 리스트 : 값과 포인터를 묶은 노드를 포인터로 연결한 자료구조(열차)\n",
    " \n",
    "     - 장점 \n",
    "         * 크기 지정이 필요 없고, 크기 변경 가능 : 포인터만 변경하면 됨->O(1)\n",
    "     - 단점\n",
    "        * 접근이 어려움 -> O(N)의 시간 복잡도 앞에서 부터 차례로\n",
    "        \n",
    "> 파이썬의 list는 각 장점을 끌어옴"
   ]
  },
  {
   "cell_type": "markdown",
   "id": "086e2b95-b32a-48a4-924d-44669e654157",
   "metadata": {},
   "source": [
    "노드는 아래 두 가지 정보가 필요합니다.\n",
    "1) 칸에 있는 데이터\n",
    "2) 다음 칸이 뭔지"
   ]
  },
  {
   "cell_type": "markdown",
   "id": "5b6c8773-bf05-4daa-9166-f692d832c8e1",
   "metadata": {},
   "source": [
    "# 클래스 & 객체\n",
    "\n",
    "- 클래스 : 분류, 집합 같은 속성과 기능을 가진 객체의 총칭\n",
    "- 객체 : 유일한 것"
   ]
  },
  {
   "cell_type": "markdown",
   "id": "cc3be8dd-ea50-4507-81bb-6c6516a90d46",
   "metadata": {},
   "source": [
    "> 클래스의 생성자 : __init__ \n",
    "\n",
    "객체를 생성할 때 데이터를 넣어주거나, 내부적으로 원하는 행동을 실행"
   ]
  },
  {
   "cell_type": "markdown",
   "id": "c0849ce4-6f95-42d3-b696-a977681d6fa1",
   "metadata": {},
   "source": [
    "링크드 리스트 append 함수 만들기"
   ]
  },
  {
   "cell_type": "markdown",
   "id": "806c11c2-c805-4055-b774-ed70a4e1bbf6",
   "metadata": {},
   "source": [
    "train_compartments = [\"기관실\"] -> [\"시멘트\"] -> [\"자갈\"] -> [\"밀가루\"] -> [\"우편\"]"
   ]
  },
  {
   "cell_type": "markdown",
   "id": "eeade12b-00a7-4337-9afa-03a465aac0f6",
   "metadata": {},
   "source": [
    "일반 노드 : 100억번 쳐야하는 함수"
   ]
  },
  {
   "cell_type": "code",
   "execution_count": 2,
   "id": "d2638eec-22ce-4e19-b4e4-f5214d60970d",
   "metadata": {},
   "outputs": [],
   "source": [
    "class Node:\n",
    "    def __init__(self, data):\n",
    "        self.data = data\n",
    "        self.next = None\n",
    "\n",
    "# 3을 가진 Node 를 만드려면 아래와 같이 하면 됩니다!\n",
    "node = Node(3) # 현재는 next 가 없이 하나의 노드만 있습니다. [3]"
   ]
  },
  {
   "cell_type": "code",
   "execution_count": 3,
   "id": "ededf824-cbae-4645-8467-af319ba68dac",
   "metadata": {},
   "outputs": [],
   "source": [
    "first_node = Node(5) # 현재는 next 가 없이 하나의 노드만 있습니다. [5]\n",
    "second_node = Node(12) # [12] 를 들고 있는 노드를 만듭니다.\n",
    "first_node.next = second_node # 그리고, [5]의 next 를 [12]로 지정합니다. [5] -> [12]"
   ]
  },
  {
   "cell_type": "markdown",
   "id": "46ccccc1-d51a-4bd6-8991-6dcdf46827b4",
   "metadata": {},
   "source": [
    "LinkedList : head node -> 맨 앞 칸만 저장"
   ]
  },
  {
   "cell_type": "code",
   "execution_count": 4,
   "id": "0d3e9d0c-4073-4c3f-a005-f98c20330354",
   "metadata": {},
   "outputs": [],
   "source": [
    "class Node:\n",
    "    def __init__(self, data):\n",
    "        self.data = data\n",
    "        self.next = None\n",
    "\n",
    "# 3을 가진 Node 를 만드려면 아래와 같이 하면 됩니다!\n",
    "node = Node(3) # 현재는 next 가 없이 하나의 노드만 있습니다. [3]"
   ]
  },
  {
   "cell_type": "code",
   "execution_count": 5,
   "id": "cb652a2d-2aaf-4d70-bfc1-98e75148964e",
   "metadata": {},
   "outputs": [],
   "source": [
    "class LinkedList:\n",
    "    def __init__(self, value):\n",
    "        self.head = Node(value)  # head 에 시작하는 Node 를 연결합니다."
   ]
  },
  {
   "cell_type": "code",
   "execution_count": 6,
   "id": "77322456-c865-4965-911f-b38802a51f61",
   "metadata": {},
   "outputs": [
    {
     "name": "stdout",
     "output_type": "stream",
     "text": [
      "5\n"
     ]
    }
   ],
   "source": [
    "linked_list = LinkedList(5)\n",
    "print(linked_list.head.data) # 5가 출력됩니다!\n",
    "\n",
    "# 현재 LinkedList 는 (5) 만 존재합니다!"
   ]
  },
  {
   "cell_type": "code",
   "execution_count": 7,
   "id": "5efdd28c-9ae0-410f-be07-076a1b234c7e",
   "metadata": {},
   "outputs": [
    {
     "name": "stdout",
     "output_type": "stream",
     "text": [
      "<__main__.Node object at 0x1031086d0>\n"
     ]
    }
   ],
   "source": [
    "print(linked_list.head)"
   ]
  },
  {
   "cell_type": "markdown",
   "id": "31a2b3e1-5259-4759-95c4-ab0025a3088f",
   "metadata": {},
   "source": [
    "Q. 링크드리스트의 모든 원소를 출력하시오"
   ]
  },
  {
   "cell_type": "code",
   "execution_count": 18,
   "id": "7c0e24d9-8cff-4e0c-902c-f10e9eca6a56",
   "metadata": {},
   "outputs": [],
   "source": [
    "class Node:\n",
    "    def __init__(self, data):\n",
    "        self.data = data\n",
    "        self.next = None\n",
    "\n",
    "\n",
    "class LinkedList:\n",
    "    def __init__(self, value):\n",
    "        self.head = Node(value)\n",
    "\n",
    "    def append(self, value):\n",
    "        cur = self.head\n",
    "        while cur.next is not None:\n",
    "            cur = cur.next\n",
    "        cur.next = Node(value)\n",
    "\n",
    "    def print_all(self):\n",
    "        cur = self.head\n",
    "        while cur is not None:\n",
    "            print(cur.data)\n",
    "            cur = cur.next\n",
    "\n",
    "linked_list = LinkedList(3)\n",
    "linked_list.append(12)\n",
    "linked_list.append(14)\n",
    "linked_list.append(7)"
   ]
  },
  {
   "cell_type": "code",
   "execution_count": 19,
   "id": "7d2e18e2-a932-432c-a46e-66831e09e643",
   "metadata": {},
   "outputs": [
    {
     "name": "stdout",
     "output_type": "stream",
     "text": [
      "3\n",
      "12\n",
      "14\n",
      "7\n"
     ]
    }
   ],
   "source": [
    "linked_list.print_all()"
   ]
  },
  {
   "cell_type": "code",
   "execution_count": 13,
   "id": "f6ff7e00-cd83-44ff-b1b3-a87508531fdc",
   "metadata": {},
   "outputs": [
    {
     "data": {
      "text/plain": [
       "3"
      ]
     },
     "execution_count": 13,
     "metadata": {},
     "output_type": "execute_result"
    }
   ],
   "source": [
    "linked_list.head.data"
   ]
  },
  {
   "cell_type": "code",
   "execution_count": 9,
   "id": "9f9ddf13-e5e4-4c1f-ba5a-9b1827ed0e0c",
   "metadata": {},
   "outputs": [
    {
     "name": "stdout",
     "output_type": "stream",
     "text": [
      "5\n"
     ]
    }
   ],
   "source": [
    "print(linked_list.head.data)"
   ]
  },
  {
   "cell_type": "code",
   "execution_count": 10,
   "id": "8a99ef13-dedf-420c-85a3-a8d48d793b9c",
   "metadata": {},
   "outputs": [
    {
     "name": "stdout",
     "output_type": "stream",
     "text": [
      "5\n",
      "12\n",
      "14\n"
     ]
    }
   ],
   "source": [
    "linked_list.print_all()"
   ]
  },
  {
   "cell_type": "markdown",
   "id": "8f1a1214-f1fc-4766-a776-04ff80244f96",
   "metadata": {},
   "source": [
    "저장되는 개념이이해가 안되네.. 왜 남아있지"
   ]
  },
  {
   "cell_type": "markdown",
   "id": "587dc472-fb7b-46d5-9324-686a83bb3a7a",
   "metadata": {},
   "source": [
    "Q.  링크드 리스트에서 index번째 원소를 반환하시오."
   ]
  },
  {
   "cell_type": "code",
   "execution_count": 11,
   "id": "f982e721-761f-486a-a035-72c5d1e403dc",
   "metadata": {},
   "outputs": [
    {
     "data": {
      "text/plain": [
       "<__main__.Node at 0x103319100>"
      ]
     },
     "execution_count": 11,
     "metadata": {},
     "output_type": "execute_result"
    }
   ],
   "source": [
    "class Node:\n",
    "    def __init__(self, data):\n",
    "        self.data = data\n",
    "        self.next = None\n",
    "\n",
    "\n",
    "class LinkedList:\n",
    "    def __init__(self, value):\n",
    "        self.head = Node(value)\n",
    "\n",
    "    def append(self, value):\n",
    "        cur = self.head\n",
    "        while cur.next is not None:\n",
    "            cur = cur.next\n",
    "        cur.next = Node(value)\n",
    "\n",
    "    def print_all(self):\n",
    "        cur = self.head\n",
    "        while cur is not None:\n",
    "            print(cur.data)\n",
    "            cur = cur.next\n",
    "\n",
    "    # def get_node(self, index):\n",
    "    #     node = self.head\n",
    "    \n",
    "    #    while i < len(range(index)):\n",
    "    #         node = node.next       \n",
    "    #         print(cur.data)\n",
    "    #     return node\n",
    "\n",
    "    def get_node(self, index):  #해당인덱스의 노드 \n",
    "        node = self.head\n",
    "        count = 0\n",
    "        while count < index:\n",
    "            node = node.next\n",
    "            count += 1\n",
    "            # print(node)\n",
    "        return node\n",
    "    \n",
    "    \n",
    "linked_list = LinkedList(5)\n",
    "linked_list.append(12)\n",
    "linked_list.get_node(0) # -> 5를 들고 있는 노드를 반환해야 합니다!\n"
   ]
  },
  {
   "cell_type": "markdown",
   "id": "911987b5-232f-4028-a72a-2d3110332284",
   "metadata": {},
   "source": [
    "Q.  링크드 리스트에서 index번째 원소를 추가하시오.\n",
    "0번칸 - 1번칸 -(돌칸 추가)- 2번칸 -3번칸 - 4번칸 - 5번칸 \n",
    "\n",
    "1. 1번칸 - 돌칸 연결 : index[0]-index[1]-돌칸노드\n",
    "2. 돌칸 - 2번칸 연결"
   ]
  },
  {
   "cell_type": "code",
   "execution_count": 12,
   "id": "94f02731-ab11-4483-93f8-a552e1b659bf",
   "metadata": {},
   "outputs": [
    {
     "name": "stdout",
     "output_type": "stream",
     "text": [
      "3\n",
      "5\n",
      "12\n"
     ]
    }
   ],
   "source": [
    "class Node:\n",
    "    def __init__(self, data):\n",
    "        self.data = data\n",
    "        self.next = None\n",
    "\n",
    "\n",
    "class LinkedList:\n",
    "    def __init__(self, value):\n",
    "        self.head = Node(value)\n",
    "\n",
    "    def append(self, value):\n",
    "        cur = self.head\n",
    "        while cur.next is not None:\n",
    "            cur = cur.next\n",
    "        cur.next = Node(value)\n",
    "\n",
    "    def print_all(self):\n",
    "        cur = self.head\n",
    "        while cur is not None:\n",
    "            print(cur.data)\n",
    "            cur = cur.next\n",
    "\n",
    "    def get_node(self, index):\n",
    "        node = self.head\n",
    "        count = 0\n",
    "        while count < index:\n",
    "            node = node.next\n",
    "            count += 1\n",
    "        return node\n",
    "\n",
    "    def add_node(self, index, value):\n",
    "        new_node = Node(value)\n",
    "        if index == 0:\n",
    "            new_node.next = self.head \n",
    "            self.head = new_node\n",
    "            return\n",
    "\n",
    "        node = self.get_node(index - 1) # 추가위치 앞 노드\n",
    "        next_node = node.next # 앞 노드 뒤 새로운 노드 추가 \n",
    "        node.next = new_node \n",
    "        new_node.next = next_node\n",
    "\n",
    "\n",
    "linked_list = LinkedList(5)\n",
    "linked_list.append(12)\n",
    "linked_list.add_node(0, 3)\n",
    "linked_list.print_all()"
   ]
  },
  {
   "cell_type": "markdown",
   "id": "fa149102-1c9e-46f0-812e-d9832efabfd6",
   "metadata": {},
   "source": [
    "[참고자료]https://ybworld.tistory.com/85"
   ]
  },
  {
   "cell_type": "code",
   "execution_count": null,
   "id": "a8aa8110-dbe0-43ab-aafa-fe4d7194c7d2",
   "metadata": {},
   "outputs": [],
   "source": []
  },
  {
   "cell_type": "code",
   "execution_count": null,
   "id": "c25a71e8-e7de-4ab6-b30d-a6b901198d8a",
   "metadata": {},
   "outputs": [],
   "source": []
  },
  {
   "cell_type": "code",
   "execution_count": null,
   "id": "efab8fa9-9393-4aa0-8881-e65acdd11d2c",
   "metadata": {},
   "outputs": [],
   "source": []
  },
  {
   "cell_type": "code",
   "execution_count": null,
   "id": "69c5e59c-6117-4413-9044-87240f5daa95",
   "metadata": {},
   "outputs": [],
   "source": []
  }
 ],
 "metadata": {
  "kernelspec": {
   "display_name": "Python 3 (ipykernel)",
   "language": "python",
   "name": "python3"
  },
  "language_info": {
   "codemirror_mode": {
    "name": "ipython",
    "version": 3
   },
   "file_extension": ".py",
   "mimetype": "text/x-python",
   "name": "python",
   "nbconvert_exporter": "python",
   "pygments_lexer": "ipython3",
   "version": "3.9.13"
  }
 },
 "nbformat": 4,
 "nbformat_minor": 5
}
