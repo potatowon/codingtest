{
 "cells": [
  {
   "cell_type": "code",
   "execution_count": 2,
   "id": "751f973b-2edc-4250-9c0f-ef5b34bf8e6a",
   "metadata": {},
   "outputs": [],
   "source": [
    "# 화물칸을 만드는 방법\n",
    "class Node:\n",
    "    def __init__(self,value):\n",
    "        self.data = data\n",
    "        self.next = None\n",
    "    "
   ]
  },
  {
   "cell_type": "code",
   "execution_count": 2,
   "id": "c62ab426-54dc-4e89-980d-d2ca3abeea16",
   "metadata": {},
   "outputs": [],
   "source": [
    "# 헤드 만들기\n",
    "\n",
    "class LinkedList:\n",
    "    def __init__(self, value):\n",
    "        self.head = Node(value)\n",
    "    \n",
    "# Append 하기\n",
    "    def append(self, value):\n",
    "        cur = self.head\n",
    "        while cur.next is not None:\n",
    "            cur = cur.next\n",
    "        cur.next = Node(value)\n",
    "        \n",
    "# 모든 원소의 출력\n",
    "    def print_all(self):\n",
    "        cur = self.head\n",
    "        while cur.next is not None:\n",
    "            print(cur.data)\n",
    "            cur = cur.next\n",
    "\n",
    "# 원소 찾기\n",
    "    def get_node(self,index):\n",
    "        node = self.head\n",
    "        cnt = 0\n",
    "        while cnt < index:\n",
    "            node = node.next\n",
    "            cnt += 1\n",
    "        return node\n",
    "\n",
    "# 원소 추가\n",
    "    def add_node(self, index, value):\n",
    "        new_node = Node(value)\n",
    "        if index == 0:\n",
    "            new_node.next = self.head\n",
    "            self.head = new_node\n",
    "            return\n",
    "        \n",
    "        node = self.get_node(index -1)\n",
    "        next_node = node.next\n",
    "        node.next = new_node\n",
    "        new_node.next = next_node\n",
    "        \n",
    "# 원소 제거\n",
    "    def delete_node(self, index):\n",
    "        if index == 0 :\n",
    "            self.head = self.head.next\n",
    "        node = self.get_node(index - 1 )\n",
    "        node.next = node.next.next"
   ]
  },
  {
   "cell_type": "code",
   "execution_count": null,
   "id": "c80d425a-814e-4423-b08f-70e649472814",
   "metadata": {},
   "outputs": [],
   "source": []
  },
  {
   "cell_type": "code",
   "execution_count": null,
   "id": "1d9ab9c1-8fcf-4e6b-a423-db4835384c84",
   "metadata": {},
   "outputs": [],
   "source": []
  },
  {
   "cell_type": "code",
   "execution_count": null,
   "id": "fbf9762a-1263-4b4e-b6ad-34281f551a24",
   "metadata": {},
   "outputs": [],
   "source": []
  },
  {
   "cell_type": "code",
   "execution_count": null,
   "id": "9cbbb525-853d-4dbc-96cc-3100865548b0",
   "metadata": {},
   "outputs": [],
   "source": []
  }
 ],
 "metadata": {
  "kernelspec": {
   "display_name": "Python 3 (ipykernel)",
   "language": "python",
   "name": "python3"
  },
  "language_info": {
   "codemirror_mode": {
    "name": "ipython",
    "version": 3
   },
   "file_extension": ".py",
   "mimetype": "text/x-python",
   "name": "python",
   "nbconvert_exporter": "python",
   "pygments_lexer": "ipython3",
   "version": "3.9.13"
  }
 },
 "nbformat": 4,
 "nbformat_minor": 5
}
