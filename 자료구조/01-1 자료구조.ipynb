{
 "cells": [
  {
   "cell_type": "markdown",
   "id": "42ceae23-727a-4e9f-b05e-64d12f966bb3",
   "metadata": {},
   "source": [
    "# 자료구조와 배열\n",
    "참고 : Do it! 자료구조와  함께 배우는 알고리즘 입문<br>\n",
    "참고 : 노션 자료<br>\n",
    "참고 : Do it! 알고리즘 코딩 테스트\n",
    "\n",
    "```\n",
    "자료구조에서의 list 와 파이썬 에서의 list는 다름\n",
    "\n",
    "파이썬 list는 배열과 자료구조에서의 리스트의 장점을 지님\n",
    "```\n",
    " - 배열(숙소)\n",
    "     - 장점 \n",
    "         * 인덱스 사용 값에 접근 가능 -> O(1)의 복잡도\n",
    "     - 단점\n",
    "         * 새로운 값의 삽입, 삭제 어렵다 -> O(N)의 복잡도(모든 원소의 이동)\n",
    "         * 크기를 변경 할 수 없다 -> 새로운 원소 추가시 새로운 공간의 할당 필요\n",
    "         \n",
    " - 자료구조의 리스트 : 값과 포인터를 묶은 노드를 포인터로 연결한 자료구조(열차)\n",
    " \n",
    "     - 장점 \n",
    "         * 크기 지정이 필요 없고, 크기 변경 가능 : 포인터만 변경하면 됨->O(1)\n",
    "     - 단점\n",
    "        * 접근이 어려움 -> O(N)의 시간 복잡도 앞에서 부터 차례로\n",
    "        \n",
    "> 파이썬의 list는 각 장점을 끌어옴"
   ]
  },
  {
   "cell_type": "markdown",
   "id": "66162053-60a9-4f43-8a6d-3f89a3e6fca5",
   "metadata": {},
   "source": [
    "노드는 아래 두 가지 정보가 필요합니다.\n",
    "1) 칸에 있는 데이터\n",
    "2) 다음 칸이 뭔지"
   ]
  },
  {
   "cell_type": "markdown",
   "id": "c0d37531-54a7-4714-be47-00a126fa3bb9",
   "metadata": {},
   "source": [
    "# 클래스 & 객체\n",
    "\n",
    "- 클래스 : 분류, 집합 같은 속성과 기능을 가진 객체의 총칭\n",
    "- 객체 : 유일한 것"
   ]
  },
  {
   "cell_type": "markdown",
   "id": "e31f122a-2747-49eb-8a9a-2a95c82d9328",
   "metadata": {},
   "source": [
    "> 클래스의 생성자 : __init__ \n",
    "\n",
    "객체를 생성할 때 데이터를 넣어주거나, 내부적으로 원하는 행동을 실행"
   ]
  },
  {
   "cell_type": "markdown",
   "id": "39325864-c5df-4fe2-83f7-d5e876910de9",
   "metadata": {},
   "source": [
    "링크드 리스트 append 함수 만들기"
   ]
  },
  {
   "cell_type": "markdown",
   "id": "0e6e4f29-3639-4d27-afd3-4b438b676ebc",
   "metadata": {},
   "source": [
    "train_compartments = [\"기관실\"] -> [\"시멘트\"] -> [\"자갈\"] -> [\"밀가루\"] -> [\"우편\"]"
   ]
  },
  {
   "cell_type": "markdown",
   "id": "2afb4094-65db-439f-ba20-92448e2779c8",
   "metadata": {},
   "source": [
    "일반 노드 : 100억번 쳐야하는 함수"
   ]
  },
  {
   "cell_type": "code",
   "execution_count": 32,
   "id": "7786dc63-2730-4015-8d64-b8e4d4fab180",
   "metadata": {},
   "outputs": [],
   "source": [
    "class Node:\n",
    "    def __init__(self, data):\n",
    "        self.data = data\n",
    "        self.next = None\n",
    "\n",
    "# 3을 가진 Node 를 만드려면 아래와 같이 하면 됩니다!\n",
    "node = Node(3) # 현재는 next 가 없이 하나의 노드만 있습니다. [3]"
   ]
  },
  {
   "cell_type": "code",
   "execution_count": 33,
   "id": "a2fa17b4-6047-4a6b-9422-792c3c8ce6c6",
   "metadata": {},
   "outputs": [],
   "source": [
    "first_node = Node(5) # 현재는 next 가 없이 하나의 노드만 있습니다. [5]\n",
    "second_node = Node(12) # [12] 를 들고 있는 노드를 만듭니다.\n",
    "first_node.next = second_node # 그리고, [5]의 next 를 [12]로 지정합니다. [5] -> [12]"
   ]
  },
  {
   "cell_type": "markdown",
   "id": "09d711b3-864d-484c-bf46-6ff324f4dd37",
   "metadata": {},
   "source": [
    "LinkedList : head node -> 맨 앞 칸만 저장"
   ]
  },
  {
   "cell_type": "code",
   "execution_count": 32,
   "id": "98d0c435-7dc1-4fad-884c-099014cf6451",
   "metadata": {},
   "outputs": [],
   "source": [
    "class Node:\n",
    "    def __init__(self, data):\n",
    "        self.data = data\n",
    "        self.next = None\n",
    "\n",
    "# 3을 가진 Node 를 만드려면 아래와 같이 하면 됩니다!\n",
    "node = Node(3) # 현재는 next 가 없이 하나의 노드만 있습니다. [3]"
   ]
  },
  {
   "cell_type": "code",
   "execution_count": 34,
   "id": "c316e058-f966-49a5-8e3f-09a9c528eabc",
   "metadata": {},
   "outputs": [],
   "source": [
    "class LinkedList:\n",
    "    def __init__(self, value):\n",
    "        self.head = Node(value)  # head 에 시작하는 Node 를 연결합니다."
   ]
  },
  {
   "cell_type": "code",
   "execution_count": 35,
   "id": "7481ad33-b463-46e8-a2d4-8b4d641e02bb",
   "metadata": {},
   "outputs": [
    {
     "name": "stdout",
     "output_type": "stream",
     "text": [
      "5\n"
     ]
    }
   ],
   "source": [
    "linked_list = LinkedList(5)\n",
    "print(linked_list.head.data) # 5가 출력됩니다!\n",
    "\n",
    "# 현재 LinkedList 는 (5) 만 존재합니다!"
   ]
  },
  {
   "cell_type": "code",
   "execution_count": 38,
   "id": "da2e12d9-c1ea-41a8-ad3d-108a21bf7304",
   "metadata": {},
   "outputs": [
    {
     "name": "stdout",
     "output_type": "stream",
     "text": [
      "<__main__.Node object at 0x1063c5c10>\n"
     ]
    }
   ],
   "source": [
    "print(linked_list.head)"
   ]
  },
  {
   "cell_type": "markdown",
   "id": "8ea49766-da36-4afb-86dc-3105454b7e92",
   "metadata": {},
   "source": [
    "Q. 링크드리스트의 모든 원소를 출력하시오"
   ]
  },
  {
   "cell_type": "code",
   "execution_count": 46,
   "id": "3e841b0a-4775-47a8-b315-3979b7e0ca3e",
   "metadata": {},
   "outputs": [
    {
     "name": "stdout",
     "output_type": "stream",
     "text": [
      "5\n",
      "12\n",
      "14\n"
     ]
    }
   ],
   "source": [
    "class Node:\n",
    "    def __init__(self, data):\n",
    "        self.data = data\n",
    "        self.next = None\n",
    "\n",
    "\n",
    "class LinkedList:\n",
    "    def __init__(self, value):\n",
    "        self.head = Node(value)\n",
    "\n",
    "    def append(self, value):\n",
    "        cur = self.head\n",
    "        while cur.next is not None:\n",
    "            cur = cur.next\n",
    "        cur.next = Node(value)\n",
    "\n",
    "    def print_all(self):\n",
    "        cur = self.head\n",
    "        while cur is not None:\n",
    "            print(cur.data)\n",
    "            cur = cur.next\n",
    "\n",
    "linked_list = LinkedList(5)\n",
    "linked_list.append(12)\n",
    "linked_list.append(14)\n",
    "linked_list.print_all()"
   ]
  },
  {
   "cell_type": "code",
   "execution_count": 40,
   "id": "f1cf6c0b-034d-439d-98c4-8f1642e3b07b",
   "metadata": {},
   "outputs": [
    {
     "name": "stdout",
     "output_type": "stream",
     "text": [
      "5\n"
     ]
    }
   ],
   "source": [
    "print(linked_list.head.data)"
   ]
  },
  {
   "cell_type": "code",
   "execution_count": 48,
   "id": "480c2aa1-f2b7-4f0d-83da-45a5115c7156",
   "metadata": {},
   "outputs": [
    {
     "name": "stdout",
     "output_type": "stream",
     "text": [
      "5\n",
      "12\n",
      "14\n"
     ]
    }
   ],
   "source": [
    "linked_list.print_all()"
   ]
  },
  {
   "cell_type": "markdown",
   "id": "53104309-0262-4579-a063-bf174a00d176",
   "metadata": {},
   "source": [
    "저장되는 개념이이해가 안되네.. 왜 남아있지"
   ]
  },
  {
   "cell_type": "markdown",
   "id": "ca53ebd3-587f-4a26-bd9f-32eb831171b2",
   "metadata": {},
   "source": [
    "Q.  링크드 리스트에서 index번째 원소를 반환하시오."
   ]
  },
  {
   "cell_type": "code",
   "execution_count": 68,
   "id": "6a577c18-1a29-4c92-a28b-273b7e7e426b",
   "metadata": {},
   "outputs": [
    {
     "data": {
      "text/plain": [
       "<__main__.Node at 0x1059af5b0>"
      ]
     },
     "execution_count": 68,
     "metadata": {},
     "output_type": "execute_result"
    }
   ],
   "source": [
    "class Node:\n",
    "    def __init__(self, data):\n",
    "        self.data = data\n",
    "        self.next = None\n",
    "\n",
    "\n",
    "class LinkedList:\n",
    "    def __init__(self, value):\n",
    "        self.head = Node(value)\n",
    "\n",
    "    def append(self, value):\n",
    "        cur = self.head\n",
    "        while cur.next is not None:\n",
    "            cur = cur.next\n",
    "        cur.next = Node(value)\n",
    "\n",
    "    def print_all(self):\n",
    "        cur = self.head\n",
    "        while cur is not None:\n",
    "            print(cur.data)\n",
    "            cur = cur.next\n",
    "\n",
    "    # def get_node(self, index):\n",
    "    #     node = self.head\n",
    "    #     for i in range(index):\n",
    "    #         cur = cur.next       \n",
    "    #         print(cur.data)\n",
    "    #     return cur.data\n",
    "\n",
    "    def get_node(self, index):\n",
    "        node = self.head\n",
    "        count = 0\n",
    "        while count < index:\n",
    "            node = node.next\n",
    "            count += 1\n",
    "            # print(node)\n",
    "        return node\n",
    "    \n",
    "    \n",
    "linked_list = LinkedList(5)\n",
    "linked_list.append(12)\n",
    "linked_list.get_node(0) # -> 5를 들고 있는 노드를 반환해야 합니다!\n"
   ]
  },
  {
   "cell_type": "markdown",
   "id": "a8f1da2b-664f-4e82-aff4-d5445f9fbaf3",
   "metadata": {},
   "source": [
    "Q.  링크드 리스트에서 index번째 원소를 추가하시오."
   ]
  },
  {
   "cell_type": "code",
   "execution_count": 69,
   "id": "2de3fbf1-4ee5-4520-9aa5-fd8114cc77cb",
   "metadata": {},
   "outputs": [
    {
     "name": "stdout",
     "output_type": "stream",
     "text": [
      "3\n",
      "5\n",
      "12\n"
     ]
    }
   ],
   "source": [
    "class Node:\n",
    "    def __init__(self, data):\n",
    "        self.data = data\n",
    "        self.next = None\n",
    "\n",
    "\n",
    "class LinkedList:\n",
    "    def __init__(self, value):\n",
    "        self.head = Node(value)\n",
    "\n",
    "    def append(self, value):\n",
    "        cur = self.head\n",
    "        while cur.next is not None:\n",
    "            cur = cur.next\n",
    "        cur.next = Node(value)\n",
    "\n",
    "    def print_all(self):\n",
    "        cur = self.head\n",
    "        while cur is not None:\n",
    "            print(cur.data)\n",
    "            cur = cur.next\n",
    "\n",
    "    def get_node(self, index):\n",
    "        node = self.head\n",
    "        count = 0\n",
    "        while count < index:\n",
    "            node = node.next\n",
    "            count += 1\n",
    "        return node\n",
    "\n",
    "    def add_node(self, index, value):\n",
    "        new_node = Node(value)\n",
    "        if index == 0:\n",
    "            new_node.next = self.head\n",
    "            self.head = new_node\n",
    "            return\n",
    "\n",
    "        node = self.get_node(index - 1)\n",
    "        next_node = node.next\n",
    "        node.next = new_node\n",
    "        new_node.next = next_node\n",
    "\n",
    "\n",
    "linked_list = LinkedList(5)\n",
    "linked_list.append(12)\n",
    "linked_list.add_node(0, 3)\n",
    "linked_list.print_all()"
   ]
  },
  {
   "cell_type": "code",
   "execution_count": null,
   "id": "32c06c06-2426-475d-9a8d-d43af532b4d4",
   "metadata": {},
   "outputs": [],
   "source": []
  },
  {
   "cell_type": "code",
   "execution_count": null,
   "id": "667de528-9af3-40fd-bf1e-3136d9a1271d",
   "metadata": {},
   "outputs": [],
   "source": []
  },
  {
   "cell_type": "code",
   "execution_count": null,
   "id": "c301ae50-51cb-4574-9fd8-0c75acbfa3eb",
   "metadata": {},
   "outputs": [],
   "source": []
  },
  {
   "cell_type": "code",
   "execution_count": null,
   "id": "31c15f49-1b48-4e0a-8128-65b2f0f135b3",
   "metadata": {},
   "outputs": [],
   "source": []
  },
  {
   "cell_type": "code",
   "execution_count": null,
   "id": "a51d7157-a1fc-41b0-abb5-5b7b36110f9d",
   "metadata": {},
   "outputs": [],
   "source": []
  },
  {
   "cell_type": "code",
   "execution_count": null,
   "id": "b03b4269-afee-420c-81f2-1cbabf04dbd8",
   "metadata": {},
   "outputs": [],
   "source": []
  },
  {
   "cell_type": "markdown",
   "id": "320d32b1-a659-4ad2-8f1a-05c3df5589a1",
   "metadata": {},
   "source": [
    "## 리스트와 튜플"
   ]
  },
  {
   "cell_type": "markdown",
   "id": "6867e486-6ebf-41d9-83b5-cf62f2f6e09b",
   "metadata": {},
   "source": [
    "리스트 \n",
    " - 뮤터블\n",
    "     * 리스트, 딕셔너리, 집합 등\n",
    " - 원소의 개수 지정\n",
    "     * `None` 값도 할 수 있다\n",
    "```python \n",
    "         lis = [None] *5\n",
    "```\n",
    "튜플\n",
    " - 이뮤터블\n",
    "     * 수, 문자열, 튜플 등\n",
    " - 연산자 결합 생력 가능\n",
    " - 원소가 1개 인경우 `,` 입력 \n",
    " \n",
    "> unpack 가능"
   ]
  },
  {
   "cell_type": "markdown",
   "id": "bbbc81f2-0c07-4793-8460-ef8cafbecabb",
   "metadata": {},
   "source": [
    "## 인덱스로 원소에 접근하기\n",
    " - 인덱스식\n",
    " - 슬라이스식"
   ]
  },
  {
   "cell_type": "code",
   "execution_count": 2,
   "id": "63b6e245-bd57-4029-9cfd-e455ab2bdf97",
   "metadata": {},
   "outputs": [
    {
     "data": {
      "text/plain": [
       "(33, 77)"
      ]
     },
     "execution_count": 2,
     "metadata": {},
     "output_type": "execute_result"
    }
   ],
   "source": [
    "# 인덱스식\n",
    "x = [11,22,33,44,55,66,77]\n",
    "\n",
    "x[2], x[-1]"
   ]
  },
  {
   "cell_type": "code",
   "execution_count": 3,
   "id": "f0be79d2-81f0-4945-95b2-ffad673f6be8",
   "metadata": {},
   "outputs": [
    {
     "ename": "IndexError",
     "evalue": "list assignment index out of range",
     "output_type": "error",
     "traceback": [
      "\u001b[0;31m---------------------------------------------------------------------------\u001b[0m",
      "\u001b[0;31mIndexError\u001b[0m                                Traceback (most recent call last)",
      "Cell \u001b[0;32mIn [3], line 1\u001b[0m\n\u001b[0;32m----> 1\u001b[0m \u001b[43mx\u001b[49m\u001b[43m[\u001b[49m\u001b[38;5;241;43m7\u001b[39;49m\u001b[43m]\u001b[49m \u001b[38;5;241m=\u001b[39m \u001b[38;5;241m3.8\u001b[39m\n",
      "\u001b[0;31mIndexError\u001b[0m: list assignment index out of range"
     ]
    }
   ],
   "source": [
    "x[7] = 3.8\n",
    " # 존재하지 않는 인덱스 오류\n",
    " # x[7] 값을 대입할 수 없는 오류 "
   ]
  },
  {
   "cell_type": "code",
   "execution_count": 5,
   "id": "b458311e-3641-485a-9de7-ca949773df57",
   "metadata": {},
   "outputs": [
    {
     "data": {
      "text/plain": [
       "[11, 22, 33, 3.14, 55, 66, 77]"
      ]
     },
     "execution_count": 5,
     "metadata": {},
     "output_type": "execute_result"
    }
   ],
   "source": [
    "# 리스트 x의 뒤에서 4번째 원소에 새로운 값 대입\n",
    "x[-4] =3.14\n",
    "\n",
    "x "
   ]
  },
  {
   "cell_type": "markdown",
   "id": "5cc7081a-2ca3-484d-93ee-8e47b252f7c1",
   "metadata": {},
   "source": [
    "리스트의 값을 변경은 가능하나, 새로운 원소 대입은 불가 "
   ]
  },
  {
   "cell_type": "code",
   "execution_count": 7,
   "id": "ef4f7c92-4c7c-4a32-aaa6-6b4633fd8c83",
   "metadata": {},
   "outputs": [
    {
     "data": {
      "text/plain": [
       "[11, 33, 55]"
      ]
     },
     "execution_count": 7,
     "metadata": {},
     "output_type": "execute_result"
    }
   ],
   "source": [
    "# 슬라이스 식\n",
    "\n",
    " # s[i:j:k]               # s[i] 부터 s[j-1]까지 k 스텍\n",
    "s =[11,22,33,44,55,66,77]\n",
    "\n",
    "s[0:6:2]"
   ]
  },
  {
   "cell_type": "markdown",
   "id": "68327db7-45d2-4de3-955f-3e2f952d3825",
   "metadata": {},
   "source": [
    "값을 복사 하는 것이 아니라 값을 참조하는 객체의 식별 번호가 변경 된다.\n",
    " - `int`에서 `str` 로 식별변호가 바뀜\n",
    " - 값 자체가 아니라 참조하는 객체의 식별 번호를 대입"
   ]
  },
  {
   "cell_type": "code",
   "execution_count": 8,
   "id": "fb4de33b-4e41-4675-b4a3-a867ba0f56af",
   "metadata": {},
   "outputs": [
    {
     "data": {
      "text/plain": [
       "4309543344"
      ]
     },
     "execution_count": 8,
     "metadata": {},
     "output_type": "execute_result"
    }
   ],
   "source": [
    "n = 5\n",
    "id(n)"
   ]
  },
  {
   "cell_type": "code",
   "execution_count": 9,
   "id": "7c0b7670-7db2-4e4e-be1e-27fe0ab250e7",
   "metadata": {},
   "outputs": [
    {
     "data": {
      "text/plain": [
       "4310840368"
      ]
     },
     "execution_count": 9,
     "metadata": {},
     "output_type": "execute_result"
    }
   ],
   "source": [
    "n ='ABC'\n",
    "id(n)"
   ]
  },
  {
   "cell_type": "code",
   "execution_count": 12,
   "id": "8bb59c7d-8791-4224-8436-bc48de52b7cd",
   "metadata": {},
   "outputs": [
    {
     "name": "stdout",
     "output_type": "stream",
     "text": [
      "4\n",
      "9\n"
     ]
    }
   ],
   "source": [
    "# 비교하기 > 여러변수에 여러 값을 한 번에 대입하는 것이 가능\n",
    "\n",
    "x = 6\n",
    "y = 2\n",
    "x, y = y + 2, x + 3\n",
    "print(x)\n",
    "\n",
    "print(y)"
   ]
  },
  {
   "cell_type": "code",
   "execution_count": 13,
   "id": "784e237a-770e-47be-8f59-6dc50845158f",
   "metadata": {},
   "outputs": [
    {
     "name": "stdout",
     "output_type": "stream",
     "text": [
      "4\n",
      "7\n"
     ]
    }
   ],
   "source": [
    "x = 6\n",
    "y = 2\n",
    "x = y + 2\n",
    "y = x + 3 # 칸을 띄우면 다르게 대입\n",
    "print(x)\n",
    "\n",
    "print(y)"
   ]
  },
  {
   "cell_type": "markdown",
   "id": "0d215b24-b826-4164-9206-9a0e929f8766",
   "metadata": {},
   "source": [
    "> 보충\n",
    " - 누적 변수 : n += 1 과 같은 것\n",
    " - `=` 은 연산기화 `+`,`*` 등과 같이 취급하지 않음\n",
    "```python\n",
    "a = (b = 1)\n",
    "```\n",
    "    - SyntaxError : invalid syntax"
   ]
  },
  {
   "cell_type": "markdown",
   "id": "8a2c708a-88a3-4cb8-80e0-12152f78fc23",
   "metadata": {},
   "source": [
    "### 자료구조의 개념\n",
    "논리적인 관계로 이루어진 데이터 구성\n",
    "- 파이썬의 자료형인 리스트와 튜플은 자료구조에 포함 시켜 배열이라고 할 수 있다.\n",
    "\n"
   ]
  },
  {
   "cell_type": "markdown",
   "id": "14b15567-f957-4935-bdb4-9cf3972962a0",
   "metadata": {},
   "source": [
    "# 배열이란? \n",
    "배열을 사용하는 기본 알고리즘"
   ]
  },
  {
   "cell_type": "markdown",
   "id": "d1821e38-2355-48da-8eac-a1dfa6db472d",
   "metadata": {},
   "source": [
    "### 배열 원소의 최댓값 구하기"
   ]
  },
  {
   "cell_type": "code",
   "execution_count": 26,
   "id": "50facd4d-1435-456e-aae5-0de21015393c",
   "metadata": {},
   "outputs": [],
   "source": [
    "def max_of(a):\n",
    "    maximum = a[0]\n",
    "    for i in range(1,len(a)): \n",
    "        if a[i] > maximum: # 스캔 : 배열 원소를 하나씩 차례로 주목하여 살펴보는 방식\n",
    "            maximum = a[i]\n",
    "        print(maximum)"
   ]
  },
  {
   "cell_type": "code",
   "execution_count": 18,
   "id": "a697a2fa-5970-40dd-865c-4c5f6865575e",
   "metadata": {},
   "outputs": [],
   "source": [
    "a = [22,57,11,91,32]"
   ]
  },
  {
   "cell_type": "code",
   "execution_count": 27,
   "id": "3f62dd78-c99d-4b98-90cf-441f610e2bee",
   "metadata": {},
   "outputs": [
    {
     "name": "stdout",
     "output_type": "stream",
     "text": [
      "57\n",
      "57\n",
      "91\n",
      "91\n"
     ]
    }
   ],
   "source": [
    "max_of(a)"
   ]
  },
  {
   "cell_type": "markdown",
   "id": "7af0e49d-cb0a-4354-9b16-3c9ccb49d897",
   "metadata": {},
   "source": [
    "### 배열 원소의 최댓값을 구하는 함수 구현하기\n",
    "배열 원소의 최댓값을 구하는 함수를 프로그램으로 구현"
   ]
  },
  {
   "cell_type": "code",
   "execution_count": 28,
   "id": "bff4f0ae-55e8-4d34-aa6c-19e8e1cad6ea",
   "metadata": {},
   "outputs": [
    {
     "name": "stdout",
     "output_type": "stream",
     "text": [
      "배열의 최댓값을 구합니다\n"
     ]
    },
    {
     "name": "stdin",
     "output_type": "stream",
     "text": [
      "원소 수를 입력하세요. : 5\n",
      "x[0]값을 입력하세요.:  172\n",
      "x[1]값을 입력하세요.:  153\n",
      "x[2]값을 입력하세요.:  192\n",
      "x[3]값을 입력하세요.:  140\n",
      "x[4]값을 입력하세요.:  165\n"
     ]
    },
    {
     "name": "stdout",
     "output_type": "stream",
     "text": [
      "최대값은 192입니다.\n"
     ]
    }
   ],
   "source": [
    "# max.py\n",
    "from typing import Any, Sequence # 제약이 없는 임의의 자료형/ 시퀀스형 : 리스트, 바이트 배열, 문자열, 튜블, 바이트열 형\n",
    "\n",
    "def max_of(a: Sequence) -> Any:  \n",
    "    \"\"\" 시퀀스형 a 원소의 최댓값을 반환 \"\"\"\n",
    "    maximum = a[0]\n",
    "    for i in range(1,len(a)): \n",
    "        if a[i] > maximum: # 스캔 : 배열 원소를 하나씩 차례로 주목하여 살펴보는 방식\n",
    "            maximum = a[i]\n",
    "    return maximum\n",
    "\n",
    "if __name__ == '__main__':\n",
    "    print('배열의 최댓값을 구합니다')\n",
    "    num = int(input('원소 수를 입력하세요. :'))\n",
    "    x = [None] * num # 원소의 개수가 num인 list 생성\n",
    "    \n",
    "    \n",
    "    for i in range(num):\n",
    "        x[i] = int(input(f'x[{i}]값을 입력하세요.: '))\n",
    "        \n",
    "    print(f'최대값은 {max_of(x)}입니다.')"
   ]
  },
  {
   "cell_type": "markdown",
   "id": "1873eb7f-5741-430c-8f55-41be7044c16e",
   "metadata": {},
   "source": [
    "### 재사용할 수 있는 모듈 작성하기\n",
    "모듈 : 하나의 스크립트 프로그램\n",
    " - 확장자(.py)를 포함하지 않은 filename을 모듈 이름으로 사용\n",
    "```\n",
    " max.py 의 모듈 이름 : max\n",
    " __name__ : 모듈이름을 나태내는 변수\n",
    " ```\n",
    "     * 스크립트 프로그램이 직접 실행 __name__ = '__main__'\n",
    "     * 임포트(import) 될 떄 변수 __name__ = 'max' (원래모듈의 이름)\n",
    "> 즉, 직접 시작한 경우만 아래행 실행"
   ]
  },
  {
   "cell_type": "code",
   "execution_count": null,
   "id": "4ffb390a-a527-4442-bd23-72dd7dbe9ae2",
   "metadata": {},
   "outputs": [],
   "source": []
  }
 ],
 "metadata": {
  "kernelspec": {
   "display_name": "Python 3 (ipykernel)",
   "language": "python",
   "name": "python3"
  },
  "language_info": {
   "codemirror_mode": {
    "name": "ipython",
    "version": 3
   },
   "file_extension": ".py",
   "mimetype": "text/x-python",
   "name": "python",
   "nbconvert_exporter": "python",
   "pygments_lexer": "ipython3",
   "version": "3.9.13"
  }
 },
 "nbformat": 4,
 "nbformat_minor": 5
}
