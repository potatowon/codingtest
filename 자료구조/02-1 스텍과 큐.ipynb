{
 "cells": [
  {
   "cell_type": "markdown",
   "id": "79be0bf1-b958-4981-b030-319feccba3fa",
   "metadata": {},
   "source": [
    "input 대신 사용\n",
    "```python\n",
    "import sys\n",
    "n = int(sys.stdin.readline())  \n",
    "```"
   ]
  },
  {
   "cell_type": "markdown",
   "id": "b751dabe-d3be-47ce-aeac-db1f989ab243",
   "metadata": {},
   "source": [
    "# 스택\n",
    "입력으로 들어온 순서대로 데이터를 스택의 가장 밑 부분인 하단에 차곡차곡 쌓는다.(선입후출)"
   ]
  },
  {
   "cell_type": "markdown",
   "id": "e5304aa6-6609-4e07-bc1e-5bbc0e19ee8c",
   "metadata": {},
   "source": [
    "> 시간복잡도 O(n)"
   ]
  },
  {
   "cell_type": "markdown",
   "id": "1baa6902-384d-48e4-8867-2f43958ec2d2",
   "metadata": {},
   "source": [
    " - push(data): 데이터 스택에 추가 (상단에)\n",
    " - pop() : 맨 앞의 데이터 뽑기\n",
    " - peek() : 맨 앞 데이터 보기\n",
    " - isEmpty() : 스택이 비어있는지 확인"
   ]
  },
  {
   "cell_type": "markdown",
   "id": "5d5eccbc-f0d9-4fb3-8e21-75c242497d86",
   "metadata": {},
   "source": [
    "정수를 저장하는 스택을 구현한 다음, 입력으로 주어지는 명령을 처리하는 프로그램을 작성하시오.\n",
    "\n",
    "명령은 총 다섯 가지이다.\n",
    "\n",
    " * push X: 정수 X를 스택에 넣는 연산이다.\n",
    " * pop: 스택에서 가장 위에 있는 정수를 빼고, 그 수를 출력한다. 만약 스택에 들어있는 정수가 없는 경우에는 -1을 출력한다.\n",
    " * size: 스택에 들어있는 정수의 개수를 출력한다.\n",
    " * empty: 스택이 비어있으면 1, 아니면 0을 출력한다.\n",
    " * top: 스택의 가장 위에 있는 정수를 출력한다. 만약 스택에 들어있는 정수가 없는 경우에는 -1을 출력한다."
   ]
  },
  {
   "cell_type": "markdown",
   "id": "84b5915d-292a-46e0-adc5-894fe266bb60",
   "metadata": {},
   "source": [
    "첫째 줄에 주어지는 명령의 수 N (1 ≤ N ≤ 10,000)이 주어진다. 둘째 줄부터 N개의 줄에는 명령이 하나씩 주어진다. \n",
    "<br>주어지는 정수는 1보다 크거나 같고, 100,000보다 작거나 같다. 문제에 나와있지 않은 명령이 주어지는 경우는 없다.\n",
    "\n"
   ]
  },
  {
   "cell_type": "code",
   "execution_count": 4,
   "id": "6dc484bf-a8fa-462a-9683-3f592baab21d",
   "metadata": {},
   "outputs": [
    {
     "name": "stdin",
     "output_type": "stream",
     "text": [
      " 1\n",
      " pop\n"
     ]
    },
    {
     "name": "stdout",
     "output_type": "stream",
     "text": [
      "-1\n"
     ]
    }
   ],
   "source": [
    "import sys\n",
    "n = int(input(''))\n",
    "\n",
    "stack = []\n",
    "for i in range(n):\n",
    "    command = input('').split(' ')\n",
    "    \n",
    "    if command[0] == 'push':\n",
    "        stack.append(command[1])\n",
    "    \n",
    "    if command[0] == 'pop':\n",
    "        if len(stack) == 0:\n",
    "            print('-1')\n",
    "        else:\n",
    "            print(stack.pop())\n",
    "    if command[0] == 'size':\n",
    "        print(len(stack))\n",
    "    if command[0] == 'empty':\n",
    "        if len(stack) == 0:\n",
    "            print('1')\n",
    "        else:\n",
    "            print('0')\n",
    "        \n",
    "    if command[0] == 'top':\n",
    "        if len(stack) == 0:\n",
    "            print('-1')\n",
    "        else:\n",
    "            print(stack[-1])"
   ]
  },
  {
   "cell_type": "markdown",
   "id": "1eb2fdf3-5e39-4976-9966-604ffacae2c9",
   "metadata": {},
   "source": [
    "# 큐\n",
    "한 쪽 끝(rear)에서 데이터가 삽입되고, 다른 한 쪽 끝(front)에서는 데이터가 삭제되는 구조(선입선출)\n",
    " - collections 모듈의 deque 자료구조를 사용하면 빠르게 큐를 구현 할 수 있다.\n",
    " <br>`BFS(너비우선탐색)`"
   ]
  },
  {
   "cell_type": "markdown",
   "id": "fa6085b1-4482-4ab3-9f63-64d25025eed8",
   "metadata": {},
   "source": [
    "> 시간복잡도 삽입/삭제 O(n)"
   ]
  },
  {
   "cell_type": "markdown",
   "id": "ffc939f4-d309-4e3d-a904-a86e84dafc61",
   "metadata": {},
   "source": [
    " - push : 맨 뒤에 데이터 추가하기 (전단에서 후단으로)enqueue(data)\n",
    " - dequeue() : 맨 앞의 데이터 뽑기\n",
    " - front() : 맨 앞의 데이터 보기(peek)\n",
    " - back() : 맨 후단 데이터 보기\n",
    " - size() : 사이즈 확인\n",
    " - isEmpty(): 큐가 비었는지 안 비었는지 여부 반환해주기\n",
    " - pop() : 큐의 전단 데이터 삭제"
   ]
  },
  {
   "cell_type": "code",
   "execution_count": null,
   "id": "65cc36cd-053c-4aa2-a61b-25a195e1486e",
   "metadata": {},
   "outputs": [],
   "source": []
  },
  {
   "cell_type": "code",
   "execution_count": null,
   "id": "e79e9742-bd3f-4ea0-a9ac-a3a51b9825f4",
   "metadata": {},
   "outputs": [],
   "source": []
  },
  {
   "cell_type": "code",
   "execution_count": null,
   "id": "2383acac-75c8-4353-875f-cd50c3790d5b",
   "metadata": {},
   "outputs": [],
   "source": []
  },
  {
   "cell_type": "code",
   "execution_count": null,
   "id": "0d23d52d-dc9e-415d-b152-a5ed84fb9dc4",
   "metadata": {},
   "outputs": [],
   "source": []
  },
  {
   "cell_type": "markdown",
   "id": "883a2c8b-ee39-46e0-a8b5-28306c4d92e6",
   "metadata": {},
   "source": [
    "### 스택과 큐, 문제 풀이"
   ]
  },
  {
   "cell_type": "code",
   "execution_count": 5,
   "id": "02fc2661-c66b-4788-b3e8-0f9e73c2ebbb",
   "metadata": {
    "tags": []
   },
   "outputs": [
    {
     "name": "stdin",
     "output_type": "stream",
     "text": [
      " 8\n",
      " 4\n"
     ]
    },
    {
     "name": "stdout",
     "output_type": "stream",
     "text": [
      "+\n",
      "[1]\n",
      "+\n",
      "[1, 2]\n",
      "+\n",
      "[1, 2, 3]\n",
      "+\n",
      "[1, 2, 3, 4]\n",
      "-\n",
      "[1, 2, 3]\n"
     ]
    },
    {
     "name": "stdin",
     "output_type": "stream",
     "text": [
      " 3\n"
     ]
    },
    {
     "name": "stdout",
     "output_type": "stream",
     "text": [
      "-\n",
      "[1, 2]\n"
     ]
    },
    {
     "name": "stdin",
     "output_type": "stream",
     "text": [
      " 6\n"
     ]
    },
    {
     "name": "stdout",
     "output_type": "stream",
     "text": [
      "+\n",
      "[1, 2, 5]\n",
      "+\n",
      "[1, 2, 5, 6]\n",
      "-\n",
      "[1, 2, 5]\n"
     ]
    },
    {
     "name": "stdin",
     "output_type": "stream",
     "text": [
      " 8\n"
     ]
    },
    {
     "name": "stdout",
     "output_type": "stream",
     "text": [
      "+\n",
      "[1, 2, 5, 7]\n",
      "+\n",
      "[1, 2, 5, 7, 8]\n",
      "-\n",
      "[1, 2, 5, 7]\n"
     ]
    },
    {
     "name": "stdin",
     "output_type": "stream",
     "text": [
      " 7\n"
     ]
    },
    {
     "name": "stdout",
     "output_type": "stream",
     "text": [
      "-\n",
      "[1, 2, 5]\n"
     ]
    },
    {
     "name": "stdin",
     "output_type": "stream",
     "text": [
      " 5\n"
     ]
    },
    {
     "name": "stdout",
     "output_type": "stream",
     "text": [
      "-\n",
      "[1, 2]\n"
     ]
    },
    {
     "name": "stdin",
     "output_type": "stream",
     "text": [
      " 2\n"
     ]
    },
    {
     "name": "stdout",
     "output_type": "stream",
     "text": [
      "-\n",
      "[1]\n"
     ]
    },
    {
     "name": "stdin",
     "output_type": "stream",
     "text": [
      " 1\n"
     ]
    },
    {
     "name": "stdout",
     "output_type": "stream",
     "text": [
      "-\n",
      "[]\n",
      "\n"
     ]
    }
   ],
   "source": [
    "ans = ''\n",
    "stack = []\n",
    "n = int(input(''))\n",
    "i = 1 # while 문 용 초기화\n",
    "# n 번 만큼 돌림 for 문\n",
    "for _ in range(n):\n",
    "    # 원하는 값을 일단 받고\n",
    "    val = int(input(''))\n",
    "    \n",
    "    # push\n",
    "    while i <= val:\n",
    "        stack.append(i)\n",
    "        print('+')\n",
    "        print(stack)\n",
    "        # ans += '+\\n'\n",
    "        i += 1\n",
    "    if stack[-1] == val:\n",
    "        stack.pop()\n",
    "        print('-')\n",
    "        print(stack)\n",
    "        # ans += '-\\n'\n",
    "    else:\n",
    "        print('No')\n",
    "        print(stack)\n",
    "        # ans = 'No'\n",
    "print(ans)\n",
    "\n",
    "# 1. push \n",
    "# 2. pop\n",
    "        \n",
    "    \n",
    "    "
   ]
  },
  {
   "cell_type": "markdown",
   "id": "7086452a-a4c5-4ab5-98f7-89160d1fcb18",
   "metadata": {},
   "source": [
    "같은 숫자는 싫어"
   ]
  },
  {
   "cell_type": "code",
   "execution_count": 1,
   "id": "8a3dac06-1cbb-42dd-ad2c-684def920eba",
   "metadata": {},
   "outputs": [],
   "source": [
    "arr = [1,1,3,3,0,1,1]"
   ]
  },
  {
   "cell_type": "code",
   "execution_count": 2,
   "id": "9b9af7dc-7100-490b-a9d6-5c102163c405",
   "metadata": {},
   "outputs": [
    {
     "name": "stdout",
     "output_type": "stream",
     "text": [
      "[1, 3, 1]\n"
     ]
    }
   ],
   "source": [
    "answer = []\n",
    "\n",
    "for i in range(len(arr)-1):\n",
    "    if arr[i] == arr[i+1]: # 마지막 인덱스 오류 -> 뒤에거로 비교하자\n",
    "        answer.append(arr[i])\n",
    "    \n",
    "print(answer)"
   ]
  },
  {
   "cell_type": "code",
   "execution_count": 32,
   "id": "adf913ad-8a8a-4ab7-8645-6f76688d5fb7",
   "metadata": {},
   "outputs": [
    {
     "name": "stdout",
     "output_type": "stream",
     "text": [
      "[1, 3, 0, 1]\n"
     ]
    }
   ],
   "source": [
    "# 스텍?\n",
    "answer = []\n",
    "\n",
    "for i in range(len(arr)):\n",
    "    if i == 0:\n",
    "        answer.append(arr[i])\n",
    "    else:\n",
    "        if arr[i] != arr[i-1]:\n",
    "            answer.append(arr[i])\n",
    "print(answer)            "
   ]
  },
  {
   "cell_type": "markdown",
   "id": "4466b8a3-aeb3-450c-ae24-ab219eb4cfa4",
   "metadata": {},
   "source": [
    "올바른 괄호"
   ]
  },
  {
   "cell_type": "code",
   "execution_count": 36,
   "id": "3fe943e6-b0d4-41c4-b74e-a0beb548157f",
   "metadata": {},
   "outputs": [
    {
     "name": "stdin",
     "output_type": "stream",
     "text": [
      " )()())\n"
     ]
    },
    {
     "data": {
      "text/plain": [
       "[')', '(', ')', '(', ')', ')']"
      ]
     },
     "execution_count": 36,
     "metadata": {},
     "output_type": "execute_result"
    }
   ],
   "source": [
    "# 여튼 이용할 거니까 list 화 부터 연습\n",
    "s = list(input(''))\n",
    "s"
   ]
  },
  {
   "cell_type": "code",
   "execution_count": null,
   "id": "21092849-9adf-4308-9521-9d09c28bc8fd",
   "metadata": {},
   "outputs": [],
   "source": [
    "# 일단 시작은 ( 로 시작\n",
    "results = []\n",
    "if lis[0] != '(':\n",
    "    answer = False\n",
    "# 규칙 찾기\n",
    "    # 방금했던 같은 숫자는 싫어 이용해봅시다.\n",
    "    \n",
    "else:\n",
    "    for i in range(len(lis)):\n",
    "        if i == 0:\n",
    "            results.append(lis[i])\n",
    "        else:\n",
    "            if lis[i] != lis[i-1]:\n",
    "                results.append(lis[i])\n",
    "    if len(results) % 2 == 0:\n",
    "        answer = True\n",
    "    else : \n",
    "        answer = False"
   ]
  },
  {
   "cell_type": "code",
   "execution_count": 58,
   "id": "a642ea51-ca0a-4ca1-bd75-c146d4ed83b3",
   "metadata": {},
   "outputs": [],
   "source": [
    "def solution(s):\n",
    "    results = []\n",
    "    lis = list(s)\n",
    "    if lis[0] != '(':\n",
    "        answer = False\n",
    "    # 규칙 찾기\n",
    "        # 방금했던 같은 숫자는 싫어 이용해봅시다.\n",
    "\n",
    "    else:\n",
    "        for i in range(len(lis)):\n",
    "            if i == 0:\n",
    "                results.append(lis[i])\n",
    "            else:\n",
    "                if lis[i] != lis[i-1]:\n",
    "                    results.append(lis[i])\n",
    "        # if lis[len(lis)-1] == lis[len(lis)-2]:\n",
    "        #     results.append(lis[len(lis)-1])\n",
    "        if len(results) % 2 == 0:\n",
    "            answer = True\n",
    "        else : \n",
    "            answer = False\n",
    "    return answer\n",
    "\n",
    "## 마지막 )을 인식을 못함\n",
    "    # 흠.. 그래도 스택으로 풀어야 할거 같음."
   ]
  },
  {
   "cell_type": "code",
   "execution_count": 63,
   "id": "e606cb94-e45c-4e03-9ab3-3aac07708a68",
   "metadata": {},
   "outputs": [
    {
     "name": "stdout",
     "output_type": "stream",
     "text": [
      "[]\n"
     ]
    }
   ],
   "source": [
    "solution('(()()()((())))())') # false가 되어야 하는 값"
   ]
  },
  {
   "cell_type": "code",
   "execution_count": 62,
   "id": "098fd109-a77b-43f0-8ccd-7941c41c758e",
   "metadata": {},
   "outputs": [],
   "source": [
    "def solution(s): # 문자열 리스트화 필요없이 그냥 인덱스 됨.\n",
    "    results = []\n",
    "    if [0] != '(':\n",
    "        answer = False # 일단 시작이 '(' 여야 하는건 불변\n",
    "    for i in lis:\n",
    "        if i == '(':\n",
    "            results.append(i)\n",
    "        if results == []:\n",
    "            answer = False\n",
    "        else: # i == ')'\n",
    "            results.pop() # pop 할게 없는 경우 에러\n",
    "    return answer"
   ]
  },
  {
   "cell_type": "code",
   "execution_count": null,
   "id": "8aead898-879d-4b9e-8415-080ccdd742ef",
   "metadata": {},
   "outputs": [],
   "source": [
    "def solution(s):\n",
    "    results = []\n",
    "    answer = True\n",
    "    for i in s:\n",
    "        if i == '(':\n",
    "            results.append(i)\n",
    "        else : # i == ')'\n",
    "            # 처음에 ) 나오면 바로 false\n",
    "            if results == []:\n",
    "                answer = False\n",
    "                break\n",
    "            else: # results 값에 뭔가 있어\n",
    "                results.pop() # ( 과 상쇄\n",
    "    if results != []:\n",
    "        answer = False\n",
    "            \n",
    "    return answer"
   ]
  },
  {
   "cell_type": "markdown",
   "id": "64b08c2e-656b-4371-9a3b-ae73128dac83",
   "metadata": {},
   "source": [
    "### 우선순위 큐"
   ]
  },
  {
   "cell_type": "markdown",
   "id": "469773b8-24bb-4bb6-b879-84a070fec65e",
   "metadata": {},
   "source": [
    "```\n",
    "우선순위큐를 사용하는 예제\n",
    "최대힙을 이용하여 푸세요\n",
    "```"
   ]
  },
  {
   "cell_type": "code",
   "execution_count": null,
   "id": "0d2f0486-4997-43b6-823e-28c6dc998bb5",
   "metadata": {},
   "outputs": [],
   "source": [
    "#sudo 코드\n",
    "\n",
    "# import sys\n",
    "# import heapq\n",
    "\n",
    "# 입력받을 정수의 값\n",
    "\n",
    "# n 만큼 반복 -> For문\n",
    "    # if 0 아니면 추가\n",
    "    # 0 이면 프린트 하고 제거 단, 빈 리스트가 아니어야 하고 , 비어있다면 0 출력 \n",
    "    "
   ]
  },
  {
   "cell_type": "code",
   "execution_count": 18,
   "id": "2f76c607-aa53-4148-9445-d970a71b9d15",
   "metadata": {},
   "outputs": [
    {
     "name": "stdin",
     "output_type": "stream",
     "text": [
      " 13\n",
      " 0\n"
     ]
    },
    {
     "name": "stdout",
     "output_type": "stream",
     "text": [
      "0\n"
     ]
    },
    {
     "name": "stdin",
     "output_type": "stream",
     "text": [
      " 1\n",
      " 2\n",
      " 0\n"
     ]
    },
    {
     "name": "stdout",
     "output_type": "stream",
     "text": [
      "2\n"
     ]
    },
    {
     "name": "stdin",
     "output_type": "stream",
     "text": [
      " 0\n"
     ]
    },
    {
     "name": "stdout",
     "output_type": "stream",
     "text": [
      "1\n"
     ]
    },
    {
     "name": "stdin",
     "output_type": "stream",
     "text": [
      " 3\n",
      " 2\n",
      " 1\n",
      " 0\n"
     ]
    },
    {
     "name": "stdout",
     "output_type": "stream",
     "text": [
      "3\n"
     ]
    },
    {
     "name": "stdin",
     "output_type": "stream",
     "text": [
      " 0\n"
     ]
    },
    {
     "name": "stdout",
     "output_type": "stream",
     "text": [
      "2\n"
     ]
    },
    {
     "name": "stdin",
     "output_type": "stream",
     "text": [
      " 0\n"
     ]
    },
    {
     "name": "stdout",
     "output_type": "stream",
     "text": [
      "1\n"
     ]
    },
    {
     "name": "stdin",
     "output_type": "stream",
     "text": [
      " 0\n"
     ]
    },
    {
     "name": "stdout",
     "output_type": "stream",
     "text": [
      "0\n"
     ]
    },
    {
     "name": "stdin",
     "output_type": "stream",
     "text": [
      " 0\n"
     ]
    },
    {
     "name": "stdout",
     "output_type": "stream",
     "text": [
      "0\n"
     ]
    }
   ],
   "source": [
    "import heapq\n",
    "\n",
    "n = int(input(''))\n",
    "heap = []\n",
    "for _ in range(n):\n",
    "    num = int(input(''))\n",
    "    if num != 0:\n",
    "        heapq.heappush(heap, -num)\n",
    "    if num == 0:\n",
    "        if len(heap) != 0:\n",
    "            print(-1*(heapq.heappop(heap)))\n",
    "        else :\n",
    "            print('0')"
   ]
  },
  {
   "cell_type": "code",
   "execution_count": 11,
   "id": "735c0670-8722-49b4-8367-6d53b5ce3e54",
   "metadata": {},
   "outputs": [
    {
     "name": "stdout",
     "output_type": "stream",
     "text": [
      "3\n",
      "[7, 32, 21]\n"
     ]
    }
   ],
   "source": [
    "heap = []\n",
    "heapq.heappush(heap, 32)\n",
    "heapq.heappush(heap, 21)\n",
    "heapq.heappush(heap, 3)\n",
    "heapq.heappush(heap, 7)\n",
    "print(heapq.heappop(heap))\n",
    "print(heap)"
   ]
  },
  {
   "cell_type": "code",
   "execution_count": null,
   "id": "e836ba4b-483e-4db6-a636-d64c7824c042",
   "metadata": {},
   "outputs": [],
   "source": []
  }
 ],
 "metadata": {
  "kernelspec": {
   "display_name": "Python 3 (ipykernel)",
   "language": "python",
   "name": "python3"
  },
  "language_info": {
   "codemirror_mode": {
    "name": "ipython",
    "version": 3
   },
   "file_extension": ".py",
   "mimetype": "text/x-python",
   "name": "python",
   "nbconvert_exporter": "python",
   "pygments_lexer": "ipython3",
   "version": "3.9.13"
  }
 },
 "nbformat": 4,
 "nbformat_minor": 5
}
